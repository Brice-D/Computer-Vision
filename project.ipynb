{
  "nbformat": 4,
  "nbformat_minor": 0,
  "metadata": {
    "colab": {
      "name": "project.ipynb",
      "provenance": [],
      "collapsed_sections": [],
      "include_colab_link": true
    },
    "kernelspec": {
      "name": "python3",
      "display_name": "Python 3"
    },
    "accelerator": "GPU"
  },
  "cells": [
    {
      "cell_type": "markdown",
      "metadata": {
        "id": "view-in-github",
        "colab_type": "text"
      },
      "source": [
        "<a href=\"https://colab.research.google.com/github/Brice-D/Computer-Vision/blob/master/project.ipynb\" target=\"_parent\"><img src=\"https://colab.research.google.com/assets/colab-badge.svg\" alt=\"Open In Colab\"/></a>"
      ]
    },
    {
      "cell_type": "code",
      "metadata": {
        "id": "ZW6Yv8q38sM0",
        "colab_type": "code",
        "colab": {
          "base_uri": "https://localhost:8080/",
          "height": 34
        },
        "outputId": "18c15747-2229-424e-ef59-f33e57177568"
      },
      "source": [
        "# Standrard libraries\n",
        "import matplotlib.pyplot as plt\n",
        "import cv2 \n",
        "import numpy as np\n",
        "import os\n",
        "from PIL import Image \n",
        "\n",
        "import tensorflow as tf\n",
        "from tensorflow import keras\n",
        "from keras.optimizers import Adam\n",
        "from keras.preprocessing.image import ImageDataGenerator\n",
        "from keras.preprocessing import image\n",
        "from keras.layers import Conv2D, MaxPool2D, Dense, Flatten, Input, Dropout\n",
        "from keras.models import Model, Sequential\n",
        "from keras.applications.resnet50 import ResNet50, preprocess_input, decode_predictions"
      ],
      "execution_count": 1,
      "outputs": [
        {
          "output_type": "stream",
          "text": [
            "Using TensorFlow backend.\n"
          ],
          "name": "stderr"
        }
      ]
    },
    {
      "cell_type": "code",
      "metadata": {
        "id": "aa7GdXt14jCj",
        "colab_type": "code",
        "colab": {
          "base_uri": "https://localhost:8080/",
          "height": 122
        },
        "outputId": "abb62239-bf10-4d7f-ca05-d9226534aec2"
      },
      "source": [
        "# mount the drive\n",
        "from google.colab import drive\n",
        "drive.mount('/content/drive')"
      ],
      "execution_count": 2,
      "outputs": [
        {
          "output_type": "stream",
          "text": [
            "Go to this URL in a browser: https://accounts.google.com/o/oauth2/auth?client_id=947318989803-6bn6qk8qdgf4n4g3pfee6491hc0brc4i.apps.googleusercontent.com&redirect_uri=urn%3aietf%3awg%3aoauth%3a2.0%3aoob&response_type=code&scope=email%20https%3a%2f%2fwww.googleapis.com%2fauth%2fdocs.test%20https%3a%2f%2fwww.googleapis.com%2fauth%2fdrive%20https%3a%2f%2fwww.googleapis.com%2fauth%2fdrive.photos.readonly%20https%3a%2f%2fwww.googleapis.com%2fauth%2fpeopleapi.readonly\n",
            "\n",
            "Enter your authorization code:\n",
            "··········\n",
            "Mounted at /content/drive\n"
          ],
          "name": "stdout"
        }
      ]
    },
    {
      "cell_type": "code",
      "metadata": {
        "id": "njmh8QTTVRBk",
        "colab_type": "code",
        "colab": {
          "base_uri": "https://localhost:8080/",
          "height": 34
        },
        "outputId": "179ea83e-1e81-4347-c22c-18a37092dd86"
      },
      "source": [
        "zip_path = \"/content/drive/My Drive/Project/5857_1166105_bundle_archive.zip\"\n",
        "!cp \"{zip_path}\" /tmp\n",
        "%cd /tmp\n",
        "!unzip -q 5857_1166105_bundle_archive.zip"
      ],
      "execution_count": 3,
      "outputs": [
        {
          "output_type": "stream",
          "text": [
            "/tmp\n"
          ],
          "name": "stdout"
        }
      ]
    },
    {
      "cell_type": "markdown",
      "metadata": {
        "id": "R9raXkB9B3Z8",
        "colab_type": "text"
      },
      "source": [
        "# **plot function**"
      ]
    },
    {
      "cell_type": "code",
      "metadata": {
        "id": "WsIGz4e6Ki9q",
        "colab_type": "code",
        "colab": {}
      },
      "source": [
        "def plot_model_history(history):\n",
        "    # summarize history for accuracy\n",
        "    plt.plot(history.history['accuracy'])\n",
        "    plt.plot(history.history['val_accuracy'])\n",
        "    plt.title('model accuracy')\n",
        "    plt.ylabel('accuracy')\n",
        "    plt.xlabel('epoch')\n",
        "    plt.legend(['train', 'validation'], loc='upper left')\n",
        "    plt.show()\n",
        "    # summarize history for loss\n",
        "    plt.plot(history.history['loss'])\n",
        "    plt.plot(history.history['val_loss'])\n",
        "    plt.title('model loss')\n",
        "    plt.ylabel('loss')\n",
        "    plt.xlabel('epoch')\n",
        "    plt.legend(['train', 'validation'], loc='upper left')\n",
        "    plt.show()"
      ],
      "execution_count": 4,
      "outputs": []
    },
    {
      "cell_type": "code",
      "metadata": {
        "id": "tRbZRXl58sG9",
        "colab_type": "code",
        "colab": {}
      },
      "source": [
        "resnet_weights = '/content/drive/My Drive/Project/resnet50_weights_tf_dim_ordering_tf_kernels_notop.h5'\n",
        "resnet_model = ResNet50(include_top=False, weights=resnet_weights, input_shape=(100, 100, 3), pooling='max')"
      ],
      "execution_count": 5,
      "outputs": []
    },
    {
      "cell_type": "code",
      "metadata": {
        "id": "-7UjopvMD-b1",
        "colab_type": "code",
        "colab": {}
      },
      "source": [
        "def model(train_base_layers, num_classes=131, optimizer=Adam(learning_rate=1e-4)):\n",
        "  resnet_model.trainable=train_base_layers\n",
        "\n",
        "  # add my own hidden layers \n",
        "  base_model = Sequential()\n",
        "  base_model.add(resnet_model)\n",
        "  base_model.add(Dense(512, activation='relu'))\n",
        "  base_model.add(Dropout(0.25))\n",
        "  base_model.add(Dense(256, activation = 'relu'))\n",
        "  base_model.add(Dropout(0.25))\n",
        "\n",
        "  #output layer\n",
        "  base_model.add(Dense(num_classes, activation='softmax'))\n",
        "\n",
        "  # print all layers of my_model() \n",
        "  base_model.summary()\n",
        "\n",
        "  #learning_rate=1e-5\n",
        "  base_model.compile(optimizer=optimizer, loss='categorical_crossentropy', metrics=['accuracy'])\n",
        "\n",
        "  return base_model\n",
        "\n"
      ],
      "execution_count": 6,
      "outputs": []
    },
    {
      "cell_type": "code",
      "metadata": {
        "id": "11dKd9H-aYuU",
        "colab_type": "code",
        "colab": {}
      },
      "source": [
        "def print_prediction(prediction):\n",
        "  print('loss: ', prediction[0])\n",
        "  print('accuracy: ', prediction[1])   "
      ],
      "execution_count": 7,
      "outputs": []
    },
    {
      "cell_type": "code",
      "metadata": {
        "id": "AstdEHjI4U2Z",
        "colab_type": "code",
        "colab": {}
      },
      "source": [
        "train_data_dir = '/tmp/fruits-360/Training'\n",
        "test_data_dir  = '/tmp/fruits-360/Test'\n",
        "\n",
        "input_shape = (100, 100)\n",
        "batch = 128"
      ],
      "execution_count": 8,
      "outputs": []
    },
    {
      "cell_type": "markdown",
      "metadata": {
        "id": "WSo7TLcOGwxS",
        "colab_type": "text"
      },
      "source": [
        "**Data Augmentation**"
      ]
    },
    {
      "cell_type": "markdown",
      "metadata": {
        "id": "ClTtkG7uWXf5",
        "colab_type": "text"
      },
      "source": [
        "- **rescale**: target values of the data between 0 and 1 by scaling with 1. / 255\n",
        "- **shear_range**: produce a slightly deformed image\n",
        "- **zoom_range**: for magnification and demagnification of the images, the value have to be in the range [0.0, 1.0]\n",
        "- **horizontal_flip**: to flip the images horizontall\n",
        "- **validation_split**: validation_data = 20% * train_data"
      ]
    },
    {
      "cell_type": "code",
      "metadata": {
        "id": "59vFE28Q-SCw",
        "colab_type": "code",
        "colab": {
          "base_uri": "https://localhost:8080/",
          "height": 68
        },
        "outputId": "d23c7b3a-6654-469e-9a9c-2dc35f7f9e04"
      },
      "source": [
        "# Data augmentation\n",
        "train_datagenerator = ImageDataGenerator(rescale= 1./255, shear_range=0.2, zoom_range=0.2, horizontal_flip=True, validation_split=0.2)\n",
        "test_datagenerator  = ImageDataGenerator(rescale=1./255)\n",
        "\n",
        "# Training dataset have to be spillted in 2 part:\n",
        "# 80% Dataset for training and 20% for validation\n",
        "training_data = train_datagenerator.flow_from_directory(train_data_dir, target_size=input_shape, class_mode='categorical', batch_size=batch, subset='training')\n",
        "validation_data = train_datagenerator.flow_from_directory(train_data_dir, target_size=input_shape, class_mode='categorical', batch_size=batch, subset='validation')\n",
        "\n",
        "# Test Dataset have to be use to test the model after training\n",
        "test_data = test_datagenerator.flow_from_directory(test_data_dir, target_size=input_shape, shuffle = False, class_mode='categorical', batch_size=batch)"
      ],
      "execution_count": null,
      "outputs": [
        {
          "output_type": "stream",
          "text": [
            "Found 54190 images belonging to 131 classes.\n",
            "Found 13502 images belonging to 131 classes.\n",
            "Found 22688 images belonging to 131 classes.\n"
          ],
          "name": "stdout"
        }
      ]
    },
    {
      "cell_type": "code",
      "metadata": {
        "id": "RK2-SNO96113",
        "colab_type": "code",
        "colab": {
          "base_uri": "https://localhost:8080/",
          "height": 34
        },
        "outputId": "34778c96-b9db-411c-da2a-750cdb6b7b2a"
      },
      "source": [
        "print(len(training_data), len(validation_data), len(test_data))"
      ],
      "execution_count": null,
      "outputs": [
        {
          "output_type": "stream",
          "text": [
            "424 106 178\n"
          ],
          "name": "stdout"
        }
      ]
    },
    {
      "cell_type": "markdown",
      "metadata": {
        "id": "kqhfLMH2FI8F",
        "colab_type": "text"
      },
      "source": [
        "## **First test without tuning**"
      ]
    },
    {
      "cell_type": "code",
      "metadata": {
        "id": "g5osBbI5il8b",
        "colab_type": "code",
        "colab": {
          "base_uri": "https://localhost:8080/",
          "height": 697
        },
        "outputId": "b1ec408a-a834-458c-bab2-ffdde7caa649"
      },
      "source": [
        "first_model = model(train_base_layers=False)\n",
        "\n",
        "#train the model\n",
        "history = first_model.fit_generator(training_data, epochs=10, steps_per_epoch=len(training_data),\n",
        "                                  validation_data=validation_data, validation_steps=len(validation_data), verbose=1)\n"
      ],
      "execution_count": null,
      "outputs": [
        {
          "output_type": "stream",
          "text": [
            "Model: \"sequential_5\"\n",
            "_________________________________________________________________\n",
            "Layer (type)                 Output Shape              Param #   \n",
            "=================================================================\n",
            "resnet50 (Model)             (None, 2048)              23587712  \n",
            "_________________________________________________________________\n",
            "dense_13 (Dense)             (None, 512)               1049088   \n",
            "_________________________________________________________________\n",
            "dropout_9 (Dropout)          (None, 512)               0         \n",
            "_________________________________________________________________\n",
            "dense_14 (Dense)             (None, 256)               131328    \n",
            "_________________________________________________________________\n",
            "dropout_10 (Dropout)         (None, 256)               0         \n",
            "_________________________________________________________________\n",
            "dense_15 (Dense)             (None, 131)               33667     \n",
            "=================================================================\n",
            "Total params: 24,801,795\n",
            "Trainable params: 1,214,083\n",
            "Non-trainable params: 23,587,712\n",
            "_________________________________________________________________\n",
            "Epoch 1/10\n",
            "424/424 [==============================] - 186s 439ms/step - loss: 3.0554 - accuracy: 0.3531 - val_loss: 5.3532 - val_accuracy: 0.0073\n",
            "Epoch 2/10\n",
            "424/424 [==============================] - 181s 427ms/step - loss: 0.6800 - accuracy: 0.8092 - val_loss: 5.3198 - val_accuracy: 0.0073\n",
            "Epoch 3/10\n",
            "424/424 [==============================] - 181s 426ms/step - loss: 0.3072 - accuracy: 0.9075 - val_loss: 5.9217 - val_accuracy: 0.0073\n",
            "Epoch 4/10\n",
            "424/424 [==============================] - 181s 427ms/step - loss: 0.1929 - accuracy: 0.9417 - val_loss: 5.5849 - val_accuracy: 0.0073\n",
            "Epoch 5/10\n",
            "424/424 [==============================] - 180s 425ms/step - loss: 0.1334 - accuracy: 0.9594 - val_loss: 5.4216 - val_accuracy: 0.0073\n",
            "Epoch 6/10\n",
            "424/424 [==============================] - 181s 426ms/step - loss: 0.1027 - accuracy: 0.9680 - val_loss: 6.1524 - val_accuracy: 0.0067\n",
            "Epoch 7/10\n",
            "424/424 [==============================] - 180s 425ms/step - loss: 0.0788 - accuracy: 0.9755 - val_loss: 5.9660 - val_accuracy: 0.0073\n",
            "Epoch 8/10\n",
            "424/424 [==============================] - 180s 425ms/step - loss: 0.0668 - accuracy: 0.9795 - val_loss: 5.7447 - val_accuracy: 0.0073\n",
            "Epoch 9/10\n",
            "424/424 [==============================] - 180s 426ms/step - loss: 0.0553 - accuracy: 0.9830 - val_loss: 5.9261 - val_accuracy: 0.0073\n",
            "Epoch 10/10\n",
            "424/424 [==============================] - 180s 425ms/step - loss: 0.0467 - accuracy: 0.9856 - val_loss: 5.8653 - val_accuracy: 0.0073\n"
          ],
          "name": "stdout"
        }
      ]
    },
    {
      "cell_type": "code",
      "metadata": {
        "id": "aBOsbPNPaI3A",
        "colab_type": "code",
        "colab": {
          "base_uri": "https://localhost:8080/",
          "height": 573
        },
        "outputId": "17d88333-a895-4fe3-9ca4-647e1da4a408"
      },
      "source": [
        "plot_model_history(history)"
      ],
      "execution_count": null,
      "outputs": [
        {
          "output_type": "display_data",
          "data": {
            "image/png": "[encoded data removed]",
            "text/plain": [
              "<Figure size 432x288 with 1 Axes>"
            ]
          },
          "metadata": {
            "tags": [],
            "needs_background": "light"
          }
        },
        {
          "output_type": "display_data",
          "data": {
            "image/png": "[encoded data removed]",
            "text/plain": [
              "<Figure size 432x288 with 1 Axes>"
            ]
          },
          "metadata": {
            "tags": [],
            "needs_background": "light"
          }
        }
      ]
    },
    {
      "cell_type": "code",
      "metadata": {
        "id": "juNu3SWEDmFl",
        "colab_type": "code",
        "colab": {
          "base_uri": "https://localhost:8080/",
          "height": 68
        },
        "outputId": "6a148c65-e9b2-490a-bd51-108ad3fba47b"
      },
      "source": [
        "# evaluation\n",
        "score_1 = first_model.evaluate_generator(test_data, steps=len(test_data), verbose=1)\n",
        "print_prediction(score_1)"
      ],
      "execution_count": null,
      "outputs": [
        {
          "output_type": "stream",
          "text": [
            "178/178 [==============================] - 29s 165ms/step\n",
            "loss:  5.392179489135742\n",
            "accuracy:  0.007184414658695459\n"
          ],
          "name": "stdout"
        }
      ]
    },
    {
      "cell_type": "code",
      "metadata": {
        "id": "IKDH8CBPboM7",
        "colab_type": "code",
        "colab": {
          "base_uri": "https://localhost:8080/",
          "height": 34
        },
        "outputId": "c61c6fcd-625c-467a-a9a8-95d2373e4e77"
      },
      "source": [
        "# prediction\n",
        "y_true = test_generator.classes\n",
        "predictions = first_model.predict_generator(test_data, steps=len(test_data), verbose=1)\n",
        "y_predic = np.argmax(predictions, axis=1)"
      ],
      "execution_count": null,
      "outputs": [
        {
          "output_type": "stream",
          "text": [
            "178/178 [==============================] - 31s 174ms/step\n"
          ],
          "name": "stdout"
        }
      ]
    },
    {
      "cell_type": "code",
      "metadata": {
        "id": "1ZyXlKspeux6",
        "colab_type": "code",
        "colab": {
          "base_uri": "https://localhost:8080/",
          "height": 51
        },
        "outputId": "d01162fb-cd30-4843-ee7a-75267f7dc590"
      },
      "source": [
        "# print predictions\n",
        "print(y_predic.shape)\n",
        "wrong_ind = np.where(np.equal(y_predic, y_true) == False)[0]\n",
        "\n",
        "print('whe have', wrong_ind.shape[0], 'index')"
      ],
      "execution_count": null,
      "outputs": [
        {
          "output_type": "stream",
          "text": [
            "(22688,)\n",
            "whe have 22525 index\n"
          ],
          "name": "stdout"
        }
      ]
    },
    {
      "cell_type": "markdown",
      "metadata": {
        "id": "-5LpryMKS6i3",
        "colab_type": "text"
      },
      "source": [
        "## **second model with some tuning**"
      ]
    },
    {
      "cell_type": "code",
      "metadata": {
        "id": "FnNYw4B1m3e-",
        "colab_type": "code",
        "colab": {
          "base_uri": "https://localhost:8080/",
          "height": 697
        },
        "outputId": "11970f93-f694-4233-b93b-938a432e7f39"
      },
      "source": [
        "model_2 = model(train_base_layers=True)\n",
        "\n",
        "history_2 = model_2.fit_generator(training_data, epochs=10, steps_per_epoch=len(training_data),\n",
        "                                  validation_data=validation_data, validation_steps=len(validation_data), verbose=1)\n"
      ],
      "execution_count": null,
      "outputs": [
        {
          "output_type": "stream",
          "text": [
            "Model: \"sequential_7\"\n",
            "_________________________________________________________________\n",
            "Layer (type)                 Output Shape              Param #   \n",
            "=================================================================\n",
            "resnet50 (Model)             (None, 2048)              23587712  \n",
            "_________________________________________________________________\n",
            "dense_19 (Dense)             (None, 512)               1049088   \n",
            "_________________________________________________________________\n",
            "dropout_13 (Dropout)         (None, 512)               0         \n",
            "_________________________________________________________________\n",
            "dense_20 (Dense)             (None, 256)               131328    \n",
            "_________________________________________________________________\n",
            "dropout_14 (Dropout)         (None, 256)               0         \n",
            "_________________________________________________________________\n",
            "dense_21 (Dense)             (None, 131)               33667     \n",
            "=================================================================\n",
            "Total params: 24,801,795\n",
            "Trainable params: 24,748,675\n",
            "Non-trainable params: 53,120\n",
            "_________________________________________________________________\n",
            "Epoch 1/10\n",
            "424/424 [==============================] - 318s 750ms/step - loss: 0.6349 - accuracy: 0.8581 - val_loss: 6.2735 - val_accuracy: 0.0148\n",
            "Epoch 2/10\n",
            "424/424 [==============================] - 300s 708ms/step - loss: 0.0260 - accuracy: 0.9932 - val_loss: 6.2404 - val_accuracy: 0.1123\n",
            "Epoch 3/10\n",
            "424/424 [==============================] - 300s 709ms/step - loss: 0.0245 - accuracy: 0.9943 - val_loss: 9.4333e-04 - val_accuracy: 0.9793\n",
            "Epoch 4/10\n",
            "424/424 [==============================] - 301s 709ms/step - loss: 0.0122 - accuracy: 0.9971 - val_loss: 0.7003 - val_accuracy: 0.8724\n",
            "Epoch 5/10\n",
            "424/424 [==============================] - 301s 709ms/step - loss: 0.0173 - accuracy: 0.9956 - val_loss: 0.3151 - val_accuracy: 0.9733\n",
            "Epoch 6/10\n",
            "424/424 [==============================] - 301s 709ms/step - loss: 0.0204 - accuracy: 0.9950 - val_loss: 0.0041 - val_accuracy: 0.9793\n",
            "Epoch 7/10\n",
            "424/424 [==============================] - 301s 709ms/step - loss: 0.0104 - accuracy: 0.9976 - val_loss: 0.0485 - val_accuracy: 0.9870\n",
            "Epoch 8/10\n",
            "424/424 [==============================] - 300s 709ms/step - loss: 0.0222 - accuracy: 0.9954 - val_loss: 0.1674 - val_accuracy: 0.9579\n",
            "Epoch 9/10\n",
            "424/424 [==============================] - 301s 709ms/step - loss: 0.0201 - accuracy: 0.9955 - val_loss: 0.2363 - val_accuracy: 0.9731\n",
            "Epoch 10/10\n",
            "424/424 [==============================] - 300s 708ms/step - loss: 0.0086 - accuracy: 0.9978 - val_loss: 0.0084 - val_accuracy: 0.9798\n"
          ],
          "name": "stdout"
        }
      ]
    },
    {
      "cell_type": "code",
      "metadata": {
        "id": "kSf6QppFtAFX",
        "colab_type": "code",
        "colab": {
          "base_uri": "https://localhost:8080/",
          "height": 573
        },
        "outputId": "dd165361-2633-46bd-e709-f6b4a06d80e7"
      },
      "source": [
        "plot_model_history(history)"
      ],
      "execution_count": null,
      "outputs": [
        {
          "output_type": "display_data",
          "data": {
            "image/png": "[encoded data removed]",
            "text/plain": [
              "<Figure size 432x288 with 1 Axes>"
            ]
          },
          "metadata": {
            "tags": [],
            "needs_background": "light"
          }
        },
        {
          "output_type": "display_data",
          "data": {
            "image/png": "[encoded data removed]",
            "text/plain": [
              "<Figure size 432x288 with 1 Axes>"
            ]
          },
          "metadata": {
            "tags": [],
            "needs_background": "light"
          }
        }
      ]
    },
    {
      "cell_type": "code",
      "metadata": {
        "id": "Nro-r4X5TfcN",
        "colab_type": "code",
        "colab": {
          "base_uri": "https://localhost:8080/",
          "height": 34
        },
        "outputId": "25598b4f-8d89-4c96-dc05-bab51b764de1"
      },
      "source": [
        "# score\n",
        "score_2 = model_2.evaluate_generator(test_data, steps=len(test_data), verbose=1)"
      ],
      "execution_count": null,
      "outputs": [
        {
          "output_type": "stream",
          "text": [
            "178/178 [==============================] - 29s 165ms/step\n"
          ],
          "name": "stdout"
        }
      ]
    },
    {
      "cell_type": "code",
      "metadata": {
        "id": "nghc_6w8tpKw",
        "colab_type": "code",
        "colab": {
          "base_uri": "https://localhost:8080/",
          "height": 51
        },
        "outputId": "b133675f-fd65-44bf-b5d1-b008b7315b96"
      },
      "source": [
        "print_prediction(score_2)"
      ],
      "execution_count": null,
      "outputs": [
        {
          "output_type": "stream",
          "text": [
            "loss:  0.0\n",
            "accuracy:  0.9843529462814331\n"
          ],
          "name": "stdout"
        }
      ]
    },
    {
      "cell_type": "code",
      "metadata": {
        "id": "gyFsIg--Fdgd",
        "colab_type": "code",
        "colab": {
          "base_uri": "https://localhost:8080/",
          "height": 34
        },
        "outputId": "2a6b77ea-711f-4a25-914b-8fcd056c37ee"
      },
      "source": [
        "# prediction\n",
        "y_true = test_generator.classes\n",
        "predictions = model_2.predict_generator(test_data, steps=len(test_data), verbose=1)\n",
        "y_predic = np.argmax(predictions, axis=1)"
      ],
      "execution_count": null,
      "outputs": [
        {
          "output_type": "stream",
          "text": [
            "178/178 [==============================] - 30s 167ms/step\n"
          ],
          "name": "stdout"
        }
      ]
    },
    {
      "cell_type": "code",
      "metadata": {
        "id": "eJ3cGlyXhk3O",
        "colab_type": "code",
        "colab": {
          "base_uri": "https://localhost:8080/",
          "height": 51
        },
        "outputId": "cb8730b8-d1ae-4d3d-ea36-978f6acfe32f"
      },
      "source": [
        "# print predictions\n",
        "print(y_predic.shape)\n",
        "wrong_ind = np.where(np.equal(y_predic, y_true) == False)[0]\n",
        "\n",
        "print('whe have', wrong_ind.shape[0], 'wrong index')"
      ],
      "execution_count": null,
      "outputs": [
        {
          "output_type": "stream",
          "text": [
            "(22688,)\n",
            "whe have 355 wrong index\n"
          ],
          "name": "stdout"
        }
      ]
    },
    {
      "cell_type": "code",
      "metadata": {
        "id": "EJ5xI8zauAGB",
        "colab_type": "code",
        "colab": {}
      },
      "source": [
        "model_2.save('/content/drive/My Drive/Project/fine_tuned_1')"
      ],
      "execution_count": null,
      "outputs": []
    },
    {
      "cell_type": "markdown",
      "metadata": {
        "id": "gyeis8w2huGk",
        "colab_type": "text"
      },
      "source": [
        "## **third model**"
      ]
    },
    {
      "cell_type": "code",
      "metadata": {
        "id": "DiMS_4xuyVkF",
        "colab_type": "code",
        "colab": {
          "base_uri": "https://localhost:8080/",
          "height": 748
        },
        "outputId": "3eeccde6-3f18-46d7-d68c-fd5d2edbf9e3"
      },
      "source": [
        "# Data augmentation\n",
        "train_generator = ImageDataGenerator(rescale= 1./255, shear_range=0.2, zoom_range=0.2, horizontal_flip=True)\n",
        "test_generator = ImageDataGenerator(rescale=1./255, validation_split=0.2)\n",
        "\n",
        "# generate data from directory\n",
        "train_3 = train_generator.flow_from_directory(train_data_dir, target_size=input_shape, class_mode='categorical', batch_size=batch)\n",
        "\n",
        "# testdata are splited in 2 part\n",
        "# 80% for test and 20% for validation\n",
        "validation_data_3 = test_generator.flow_from_directory(test_data_dir, target_size=input_shape, class_mode='categorical', batch_size=batch, subset='validation')\n",
        "test_data_3 = test_generator.flow_from_directory(test_data_dir, target_size=input_shape, shuffle = False, class_mode='categorical', batch_size=batch, subset='training')\n",
        "\n",
        "#training\n",
        "model_3 = model(train_base_layers=True)\n",
        "\n",
        "history_3 = model_3.fit_generator(train_3, epochs=10, steps_per_epoch=len(train_3),\n",
        "                                  validation_data=validation_data_3, validation_steps=len(validation_data_3), verbose=1)\n",
        "\n"
      ],
      "execution_count": null,
      "outputs": [
        {
          "output_type": "stream",
          "text": [
            "Found 67692 images belonging to 131 classes.\n",
            "Found 4481 images belonging to 131 classes.\n",
            "Found 18207 images belonging to 131 classes.\n",
            "Model: \"sequential_3\"\n",
            "_________________________________________________________________\n",
            "Layer (type)                 Output Shape              Param #   \n",
            "=================================================================\n",
            "resnet50 (Model)             (None, 2048)              23587712  \n",
            "_________________________________________________________________\n",
            "dense_7 (Dense)              (None, 512)               1049088   \n",
            "_________________________________________________________________\n",
            "dropout_5 (Dropout)          (None, 512)               0         \n",
            "_________________________________________________________________\n",
            "dense_8 (Dense)              (None, 256)               131328    \n",
            "_________________________________________________________________\n",
            "dropout_6 (Dropout)          (None, 256)               0         \n",
            "_________________________________________________________________\n",
            "dense_9 (Dense)              (None, 131)               33667     \n",
            "=================================================================\n",
            "Total params: 24,801,795\n",
            "Trainable params: 24,748,675\n",
            "Non-trainable params: 53,120\n",
            "_________________________________________________________________\n",
            "Epoch 1/10\n",
            "529/529 [==============================] - 253s 478ms/step - loss: 0.3496 - accuracy: 0.9285 - val_loss: 4.8032 - val_accuracy: 0.0228\n",
            "Epoch 2/10\n",
            "529/529 [==============================] - 235s 444ms/step - loss: 0.0247 - accuracy: 0.9939 - val_loss: 5.9605e-07 - val_accuracy: 0.9857\n",
            "Epoch 3/10\n",
            "529/529 [==============================] - 236s 446ms/step - loss: 0.0180 - accuracy: 0.9957 - val_loss: 1.1921e-07 - val_accuracy: 0.9924\n",
            "Epoch 4/10\n",
            "529/529 [==============================] - 237s 447ms/step - loss: 0.0229 - accuracy: 0.9947 - val_loss: 5.9605e-07 - val_accuracy: 0.9525\n",
            "Epoch 5/10\n",
            "529/529 [==============================] - 236s 446ms/step - loss: 0.0172 - accuracy: 0.9962 - val_loss: 1.1921e-07 - val_accuracy: 0.9775\n",
            "Epoch 6/10\n",
            "529/529 [==============================] - 236s 447ms/step - loss: 0.0084 - accuracy: 0.9980 - val_loss: 0.0000e+00 - val_accuracy: 0.9971\n",
            "Epoch 7/10\n",
            "529/529 [==============================] - 237s 448ms/step - loss: 0.0280 - accuracy: 0.9942 - val_loss: 0.0000e+00 - val_accuracy: 0.9967\n",
            "Epoch 8/10\n",
            "529/529 [==============================] - 237s 447ms/step - loss: 0.0082 - accuracy: 0.9984 - val_loss: 1.7881e-06 - val_accuracy: 0.9893\n",
            "Epoch 9/10\n",
            "529/529 [==============================] - 237s 448ms/step - loss: 0.0185 - accuracy: 0.9960 - val_loss: 2.9440e-04 - val_accuracy: 0.8996\n",
            "Epoch 10/10\n",
            "529/529 [==============================] - 236s 447ms/step - loss: 0.0132 - accuracy: 0.9972 - val_loss: 0.0000e+00 - val_accuracy: 0.9964\n"
          ],
          "name": "stdout"
        }
      ]
    },
    {
      "cell_type": "code",
      "metadata": {
        "id": "Uy1Dhw2oBvAf",
        "colab_type": "code",
        "colab": {
          "base_uri": "https://localhost:8080/",
          "height": 573
        },
        "outputId": "ecf436e9-bf8f-4a22-e8eb-2766d8632b25"
      },
      "source": [
        "plot_model_history(history_3)"
      ],
      "execution_count": null,
      "outputs": [
        {
          "output_type": "display_data",
          "data": {
            "image/png": "[encoded data removed]",
            "text/plain": [
              "<Figure size 432x288 with 1 Axes>"
            ]
          },
          "metadata": {
            "tags": [],
            "needs_background": "light"
          }
        },
        {
          "output_type": "display_data",
          "data": {
            "image/png": "[encoded data removed]",
            "text/plain": [
              "<Figure size 432x288 with 1 Axes>"
            ]
          },
          "metadata": {
            "tags": [],
            "needs_background": "light"
          }
        }
      ]
    },
    {
      "cell_type": "code",
      "metadata": {
        "id": "BO5AN3v5Ti2k",
        "colab_type": "code",
        "colab": {}
      },
      "source": [
        "model_3.save('/content/drive/My Drive/Project/fine_tuned_model_3')\n"
      ],
      "execution_count": null,
      "outputs": []
    },
    {
      "cell_type": "code",
      "metadata": {
        "id": "MtBFxVRMCA7B",
        "colab_type": "code",
        "colab": {
          "base_uri": "https://localhost:8080/",
          "height": 34
        },
        "outputId": "08835a68-3b39-4af9-9c5f-41e032d5cdcf"
      },
      "source": [
        "score_3 = model_3.evaluate_generator(test_data_3, steps=len(test_data_3), verbose=1)"
      ],
      "execution_count": null,
      "outputs": [
        {
          "output_type": "stream",
          "text": [
            "143/143 [==============================] - 15s 105ms/step\n"
          ],
          "name": "stdout"
        }
      ]
    },
    {
      "cell_type": "code",
      "metadata": {
        "id": "toqAjRSCCELV",
        "colab_type": "code",
        "colab": {
          "base_uri": "https://localhost:8080/",
          "height": 51
        },
        "outputId": "c627cd04-35ab-45fb-bbe9-8ead8096f0e8"
      },
      "source": [
        "print_prediction(score_3)"
      ],
      "execution_count": null,
      "outputs": [
        {
          "output_type": "stream",
          "text": [
            "loss:  7.906072823971044e-06\n",
            "accuracy:  0.9898390769958496\n"
          ],
          "name": "stdout"
        }
      ]
    },
    {
      "cell_type": "code",
      "metadata": {
        "id": "yCqgS-oRCRJz",
        "colab_type": "code",
        "colab": {
          "base_uri": "https://localhost:8080/",
          "height": 34
        },
        "outputId": "c244f499-a953-4787-a025-01294e65dcd4"
      },
      "source": [
        "# prediction\n",
        "y_true = test_data_3.classes\n",
        "predictions = model_3.predict_generator(test_data_3, steps=len(test_data_3), verbose=1)\n",
        "y_predic = np.argmax(predictions, axis=1)"
      ],
      "execution_count": null,
      "outputs": [
        {
          "output_type": "stream",
          "text": [
            "143/143 [==============================] - 16s 109ms/step\n"
          ],
          "name": "stdout"
        }
      ]
    },
    {
      "cell_type": "code",
      "metadata": {
        "id": "Mhu2Qj61CSG5",
        "colab_type": "code",
        "colab": {
          "base_uri": "https://localhost:8080/",
          "height": 51
        },
        "outputId": "864db774-02c9-4a01-e1a8-fcf7c3d81784"
      },
      "source": [
        "# print predictions\n",
        "print(y_predic.shape)\n",
        "wrong_ind = np.where(np.equal(y_predic, y_true) == False)[0]\n",
        "\n",
        "print('whe have', wrong_ind.shape[0], 'wrong index')"
      ],
      "execution_count": null,
      "outputs": [
        {
          "output_type": "stream",
          "text": [
            "(18207,)\n",
            "whe have 185 wrong index\n"
          ],
          "name": "stdout"
        }
      ]
    },
    {
      "cell_type": "markdown",
      "metadata": {
        "id": "rYMa90aDUXw9",
        "colab_type": "text"
      },
      "source": [
        "## **fourth model**"
      ]
    },
    {
      "cell_type": "code",
      "metadata": {
        "id": "nAQNzv2W-ciz",
        "colab_type": "code",
        "colab": {
          "base_uri": "https://localhost:8080/",
          "height": 1000
        },
        "outputId": "f25abf09-2e98-498d-b0bb-eefdd4411ca9"
      },
      "source": [
        "model_4 = model(train_base_layers=True)\n",
        "\n",
        "history_4 = model_4.fit_generator(train_3, epochs=30,\n",
        "                                  steps_per_epoch=len(train_3),\n",
        "                                  validation_data=validation_data_3, \n",
        "                                  validation_steps=len(validation_data_3),\n",
        "                                  verbose=1)\n"
      ],
      "execution_count": null,
      "outputs": [
        {
          "output_type": "stream",
          "text": [
            "Model: \"sequential_4\"\n",
            "_________________________________________________________________\n",
            "Layer (type)                 Output Shape              Param #   \n",
            "=================================================================\n",
            "resnet50 (Model)             (None, 2048)              23587712  \n",
            "_________________________________________________________________\n",
            "dense_10 (Dense)             (None, 512)               1049088   \n",
            "_________________________________________________________________\n",
            "dropout_7 (Dropout)          (None, 512)               0         \n",
            "_________________________________________________________________\n",
            "dense_11 (Dense)             (None, 256)               131328    \n",
            "_________________________________________________________________\n",
            "dropout_8 (Dropout)          (None, 256)               0         \n",
            "_________________________________________________________________\n",
            "dense_12 (Dense)             (None, 131)               33667     \n",
            "=================================================================\n",
            "Total params: 24,801,795\n",
            "Trainable params: 24,748,675\n",
            "Non-trainable params: 53,120\n",
            "_________________________________________________________________\n",
            "Epoch 1/30\n",
            "529/529 [==============================] - 251s 475ms/step - loss: 0.1407 - accuracy: 0.9748 - val_loss: 0.0000e+00 - val_accuracy: 0.9723\n",
            "Epoch 2/30\n",
            "529/529 [==============================] - 235s 445ms/step - loss: 0.0081 - accuracy: 0.9983 - val_loss: 0.0603 - val_accuracy: 0.9842\n",
            "Epoch 3/30\n",
            "529/529 [==============================] - 236s 447ms/step - loss: 0.0127 - accuracy: 0.9975 - val_loss: 2.4852e-04 - val_accuracy: 0.9993\n",
            "Epoch 4/30\n",
            "529/529 [==============================] - 237s 447ms/step - loss: 0.0116 - accuracy: 0.9975 - val_loss: 0.0000e+00 - val_accuracy: 0.9920\n",
            "Epoch 5/30\n",
            "529/529 [==============================] - 236s 447ms/step - loss: 0.0101 - accuracy: 0.9981 - val_loss: 0.0000e+00 - val_accuracy: 0.9837\n",
            "Epoch 6/30\n",
            "529/529 [==============================] - 237s 448ms/step - loss: 0.0100 - accuracy: 0.9979 - val_loss: 0.0000e+00 - val_accuracy: 0.9946\n",
            "Epoch 7/30\n",
            "529/529 [==============================] - 238s 450ms/step - loss: 0.0090 - accuracy: 0.9983 - val_loss: 0.0000e+00 - val_accuracy: 0.9975\n",
            "Epoch 8/30\n",
            "529/529 [==============================] - 237s 448ms/step - loss: 0.0093 - accuracy: 0.9982 - val_loss: 0.0680 - val_accuracy: 0.9817\n",
            "Epoch 9/30\n",
            "529/529 [==============================] - 236s 446ms/step - loss: 0.0134 - accuracy: 0.9974 - val_loss: 0.0000e+00 - val_accuracy: 0.9859\n",
            "Epoch 10/30\n",
            "529/529 [==============================] - 236s 446ms/step - loss: 0.0050 - accuracy: 0.9989 - val_loss: 0.0000e+00 - val_accuracy: 0.9938\n",
            "Epoch 11/30\n",
            "529/529 [==============================] - 236s 446ms/step - loss: 0.0035 - accuracy: 0.9992 - val_loss: 0.0000e+00 - val_accuracy: 0.9877\n",
            "Epoch 12/30\n",
            "529/529 [==============================] - 236s 447ms/step - loss: 0.0145 - accuracy: 0.9973 - val_loss: 0.0000e+00 - val_accuracy: 0.9944\n",
            "Epoch 13/30\n",
            "529/529 [==============================] - 236s 446ms/step - loss: 0.0022 - accuracy: 0.9996 - val_loss: 0.0000e+00 - val_accuracy: 0.9942\n",
            "Epoch 14/30\n",
            "529/529 [==============================] - 235s 445ms/step - loss: 0.0065 - accuracy: 0.9986 - val_loss: 0.0000e+00 - val_accuracy: 0.9955\n",
            "Epoch 15/30\n",
            "529/529 [==============================] - 236s 446ms/step - loss: 0.0077 - accuracy: 0.9986 - val_loss: 0.7170 - val_accuracy: 0.8092\n",
            "Epoch 16/30\n",
            "529/529 [==============================] - 235s 445ms/step - loss: 0.0116 - accuracy: 0.9979 - val_loss: 0.0000e+00 - val_accuracy: 0.9991\n",
            "Epoch 17/30\n",
            "529/529 [==============================] - 238s 451ms/step - loss: 0.0050 - accuracy: 0.9991 - val_loss: 1.1086e-05 - val_accuracy: 0.9893\n",
            "Epoch 18/30\n",
            "529/529 [==============================] - 236s 446ms/step - loss: 0.0137 - accuracy: 0.9973 - val_loss: 0.0000e+00 - val_accuracy: 0.9967\n",
            "Epoch 19/30\n",
            "529/529 [==============================] - 236s 445ms/step - loss: 0.0045 - accuracy: 0.9991 - val_loss: 1.9908e-05 - val_accuracy: 0.9946\n",
            "Epoch 20/30\n",
            "529/529 [==============================] - 236s 446ms/step - loss: 0.0047 - accuracy: 0.9992 - val_loss: 2.7755 - val_accuracy: 0.9929\n",
            "Epoch 21/30\n",
            "529/529 [==============================] - 236s 446ms/step - loss: 0.0053 - accuracy: 0.9987 - val_loss: 1.1921e-07 - val_accuracy: 0.9750\n",
            "Epoch 22/30\n",
            "529/529 [==============================] - 236s 447ms/step - loss: 0.0144 - accuracy: 0.9975 - val_loss: 0.0000e+00 - val_accuracy: 0.9993\n",
            "Epoch 23/30\n",
            "529/529 [==============================] - 235s 445ms/step - loss: 0.0034 - accuracy: 0.9994 - val_loss: 0.0000e+00 - val_accuracy: 0.9828\n",
            "Epoch 24/30\n",
            "529/529 [==============================] - 236s 445ms/step - loss: 0.0034 - accuracy: 0.9992 - val_loss: 0.0000e+00 - val_accuracy: 0.9989\n",
            "Epoch 25/30\n",
            "529/529 [==============================] - 236s 447ms/step - loss: 0.0074 - accuracy: 0.9986 - val_loss: 0.2088 - val_accuracy: 0.8056\n",
            "Epoch 26/30\n",
            "529/529 [==============================] - 235s 444ms/step - loss: 0.0085 - accuracy: 0.9982 - val_loss: 0.0000e+00 - val_accuracy: 0.9534\n",
            "Epoch 27/30\n",
            "529/529 [==============================] - 236s 446ms/step - loss: 0.0061 - accuracy: 0.9987 - val_loss: 0.0000e+00 - val_accuracy: 0.9978\n",
            "Epoch 28/30\n",
            "529/529 [==============================] - 236s 445ms/step - loss: 0.0107 - accuracy: 0.9982 - val_loss: 0.0000e+00 - val_accuracy: 0.9993\n",
            "Epoch 29/30\n",
            "529/529 [==============================] - 236s 445ms/step - loss: 0.0019 - accuracy: 0.9996 - val_loss: 0.0000e+00 - val_accuracy: 0.9973\n",
            "Epoch 30/30\n",
            "529/529 [==============================] - 235s 445ms/step - loss: 9.8508e-04 - accuracy: 0.9998 - val_loss: 0.0000e+00 - val_accuracy: 0.9955\n"
          ],
          "name": "stdout"
        }
      ]
    },
    {
      "cell_type": "code",
      "metadata": {
        "id": "kguNTVnFsUPQ",
        "colab_type": "code",
        "colab": {
          "base_uri": "https://localhost:8080/",
          "height": 573
        },
        "outputId": "0d9c44f3-898d-4adc-ef8f-1ffbfff2f2b6"
      },
      "source": [
        "plot_model_history(history_4)"
      ],
      "execution_count": null,
      "outputs": [
        {
          "output_type": "display_data",
          "data": {
            "image/png": "[encoded data removed]",
            "text/plain": [
              "<Figure size 432x288 with 1 Axes>"
            ]
          },
          "metadata": {
            "tags": [],
            "needs_background": "light"
          }
        },
        {
          "output_type": "display_data",
          "data": {
            "image/png": "[encoded data removed]",
            "text/plain": [
              "<Figure size 432x288 with 1 Axes>"
            ]
          },
          "metadata": {
            "tags": [],
            "needs_background": "light"
          }
        }
      ]
    },
    {
      "cell_type": "code",
      "metadata": {
        "id": "0xQ3_M5mJ6uI",
        "colab_type": "code",
        "colab": {
          "base_uri": "https://localhost:8080/",
          "height": 34
        },
        "outputId": "d20b5d54-5742-4e97-c091-da54e807d4e5"
      },
      "source": [
        "score_4 = model_4.evaluate_generator(test_data_3, steps=len(test_data_3), verbose=1)\n"
      ],
      "execution_count": null,
      "outputs": [
        {
          "output_type": "stream",
          "text": [
            "143/143 [==============================] - 15s 105ms/step\n"
          ],
          "name": "stdout"
        }
      ]
    },
    {
      "cell_type": "code",
      "metadata": {
        "id": "IshCnieOxal8",
        "colab_type": "code",
        "colab": {
          "base_uri": "https://localhost:8080/",
          "height": 51
        },
        "outputId": "d3bdc619-bb9b-49c7-9773-b5320f714f13"
      },
      "source": [
        "print_prediction(score_4)"
      ],
      "execution_count": null,
      "outputs": [
        {
          "output_type": "stream",
          "text": [
            "loss:  0.0\n",
            "accuracy:  0.985005795955658\n"
          ],
          "name": "stdout"
        }
      ]
    },
    {
      "cell_type": "code",
      "metadata": {
        "id": "Ynb_OMZnxe0s",
        "colab_type": "code",
        "colab": {
          "base_uri": "https://localhost:8080/",
          "height": 34
        },
        "outputId": "57143716-ad30-41af-8986-46665bee8d76"
      },
      "source": [
        "# prediction\n",
        "y_true = test_data_3.classes\n",
        "predictions = model_4.predict_generator(test_data_3, steps=len(test_data_3), verbose=1)\n",
        "y_predic = np.argmax(predictions, axis=1)"
      ],
      "execution_count": null,
      "outputs": [
        {
          "output_type": "stream",
          "text": [
            "143/143 [==============================] - 16s 111ms/step\n"
          ],
          "name": "stdout"
        }
      ]
    },
    {
      "cell_type": "code",
      "metadata": {
        "id": "HPAzIWb0xvoQ",
        "colab_type": "code",
        "colab": {
          "base_uri": "https://localhost:8080/",
          "height": 51
        },
        "outputId": "fea21a92-97fd-4174-ed84-ab821ab965e2"
      },
      "source": [
        "# print predictions\n",
        "print(y_predic.shape)\n",
        "wrong_ind = np.where(np.equal(y_predic, y_true) == False)[0]\n",
        "\n",
        "print('whe have', wrong_ind.shape[0], 'wrong index')"
      ],
      "execution_count": null,
      "outputs": [
        {
          "output_type": "stream",
          "text": [
            "(18207,)\n",
            "whe have 273 wrong index\n"
          ],
          "name": "stdout"
        }
      ]
    },
    {
      "cell_type": "markdown",
      "metadata": {
        "id": "4OKPo4qeyoKR",
        "colab_type": "text"
      },
      "source": [
        "## **fifth model**"
      ]
    },
    {
      "cell_type": "code",
      "metadata": {
        "id": "RB4HdqyQyndx",
        "colab_type": "code",
        "colab": {
          "base_uri": "https://localhost:8080/",
          "height": 697
        },
        "outputId": "d47e49a1-118a-4ff5-f98b-65f1296d3b39"
      },
      "source": [
        "optimizer = Adam(learning_rate=1e-5)\n",
        "model_5 = model(train_base_layers=True, optimizer=optimizer)\n",
        "\n",
        "history_4 = model_5.fit_generator(train_3, epochs=10,\n",
        "                                  steps_per_epoch=len(train_3),\n",
        "                                  validation_data=validation_data_3, \n",
        "                                  validation_steps=len(validation_data_3),\n",
        "                                  verbose=1)\n"
      ],
      "execution_count": null,
      "outputs": [
        {
          "output_type": "stream",
          "text": [
            "Model: \"sequential_5\"\n",
            "_________________________________________________________________\n",
            "Layer (type)                 Output Shape              Param #   \n",
            "=================================================================\n",
            "resnet50 (Model)             (None, 2048)              23587712  \n",
            "_________________________________________________________________\n",
            "dense_13 (Dense)             (None, 512)               1049088   \n",
            "_________________________________________________________________\n",
            "dropout_9 (Dropout)          (None, 512)               0         \n",
            "_________________________________________________________________\n",
            "dense_14 (Dense)             (None, 256)               131328    \n",
            "_________________________________________________________________\n",
            "dropout_10 (Dropout)         (None, 256)               0         \n",
            "_________________________________________________________________\n",
            "dense_15 (Dense)             (None, 131)               33667     \n",
            "=================================================================\n",
            "Total params: 24,801,795\n",
            "Trainable params: 24,748,675\n",
            "Non-trainable params: 53,120\n",
            "_________________________________________________________________\n",
            "Epoch 1/10\n",
            "529/529 [==============================] - 251s 474ms/step - loss: 2.7011 - accuracy: 0.5168 - val_loss: 1.6212e-05 - val_accuracy: 0.9857\n",
            "Epoch 2/10\n",
            "529/529 [==============================] - 235s 444ms/step - loss: 0.1556 - accuracy: 0.9746 - val_loss: 7.6529e-05 - val_accuracy: 0.9991\n",
            "Epoch 3/10\n",
            "529/529 [==============================] - 235s 444ms/step - loss: 0.0407 - accuracy: 0.9945 - val_loss: 9.6715e-04 - val_accuracy: 0.9993\n",
            "Epoch 4/10\n",
            "529/529 [==============================] - 236s 446ms/step - loss: 0.0192 - accuracy: 0.9976 - val_loss: 3.5763e-07 - val_accuracy: 0.9998\n",
            "Epoch 5/10\n",
            "529/529 [==============================] - 235s 444ms/step - loss: 0.0107 - accuracy: 0.9991 - val_loss: 0.0000e+00 - val_accuracy: 0.9998\n",
            "Epoch 6/10\n",
            "529/529 [==============================] - 235s 445ms/step - loss: 0.0070 - accuracy: 0.9993 - val_loss: 8.7138e-05 - val_accuracy: 0.9998\n",
            "Epoch 7/10\n",
            "529/529 [==============================] - 235s 445ms/step - loss: 0.0045 - accuracy: 0.9995 - val_loss: 0.0000e+00 - val_accuracy: 0.9998\n",
            "Epoch 8/10\n",
            "529/529 [==============================] - 236s 446ms/step - loss: 0.0034 - accuracy: 0.9997 - val_loss: 0.0000e+00 - val_accuracy: 0.9998\n",
            "Epoch 9/10\n",
            "529/529 [==============================] - 236s 445ms/step - loss: 0.0025 - accuracy: 0.9997 - val_loss: 8.3446e-07 - val_accuracy: 0.9998\n",
            "Epoch 10/10\n",
            "529/529 [==============================] - 236s 446ms/step - loss: 0.0021 - accuracy: 0.9997 - val_loss: 0.0000e+00 - val_accuracy: 0.9998\n"
          ],
          "name": "stdout"
        }
      ]
    },
    {
      "cell_type": "code",
      "metadata": {
        "id": "xb-aIH0EynRs",
        "colab_type": "code",
        "colab": {
          "base_uri": "https://localhost:8080/",
          "height": 573
        },
        "outputId": "ee0eac37-176e-4fec-9b2a-407bc43b61b6"
      },
      "source": [
        "plot_model_history(history_4)"
      ],
      "execution_count": null,
      "outputs": [
        {
          "output_type": "display_data",
          "data": {
            "image/png": "[encoded data removed]",
            "text/plain": [
              "<Figure size 432x288 with 1 Axes>"
            ]
          },
          "metadata": {
            "tags": [],
            "needs_background": "light"
          }
        },
        {
          "output_type": "display_data",
          "data": {
            "image/png": "[encoded data removed]",
            "text/plain": [
              "<Figure size 432x288 with 1 Axes>"
            ]
          },
          "metadata": {
            "tags": [],
            "needs_background": "light"
          }
        }
      ]
    },
    {
      "cell_type": "code",
      "metadata": {
        "id": "2nbO59FMynHl",
        "colab_type": "code",
        "colab": {
          "base_uri": "https://localhost:8080/",
          "height": 34
        },
        "outputId": "47fe65e8-92cb-49d2-b14e-8f56bd7f2343"
      },
      "source": [
        "score_5 = model_5.evaluate_generator(test_data_3, steps=len(test_data_3), verbose=1)\n"
      ],
      "execution_count": null,
      "outputs": [
        {
          "output_type": "stream",
          "text": [
            "143/143 [==============================] - 15s 105ms/step\n"
          ],
          "name": "stdout"
        }
      ]
    },
    {
      "cell_type": "code",
      "metadata": {
        "id": "tAC83UiC9K8E",
        "colab_type": "code",
        "colab": {
          "base_uri": "https://localhost:8080/",
          "height": 51
        },
        "outputId": "db915fe7-4c36-422c-cb4d-05ea1fca4261"
      },
      "source": [
        "print_prediction(score_5)"
      ],
      "execution_count": null,
      "outputs": [
        {
          "output_type": "stream",
          "text": [
            "loss:  6.191186230353196e-07\n",
            "accuracy:  0.9873125553131104\n"
          ],
          "name": "stdout"
        }
      ]
    },
    {
      "cell_type": "code",
      "metadata": {
        "id": "-DmyATRG9VU-",
        "colab_type": "code",
        "colab": {
          "base_uri": "https://localhost:8080/",
          "height": 34
        },
        "outputId": "65f513de-1d9b-44bc-9878-b37de1e0cf52"
      },
      "source": [
        "# prediction\n",
        "y_true = test_data_3.classes\n",
        "predictions = model_5.predict_generator(test_data_3, steps=len(test_data_3), verbose=1)\n",
        "y_predic = np.argmax(predictions, axis=1)"
      ],
      "execution_count": null,
      "outputs": [
        {
          "output_type": "stream",
          "text": [
            "143/143 [==============================] - 16s 109ms/step\n"
          ],
          "name": "stdout"
        }
      ]
    },
    {
      "cell_type": "code",
      "metadata": {
        "id": "tpQ2AfJq9e-V",
        "colab_type": "code",
        "colab": {
          "base_uri": "https://localhost:8080/",
          "height": 51
        },
        "outputId": "3ab3361e-896c-4369-a014-37f6c9bb6bef"
      },
      "source": [
        "# print predictions\n",
        "print(y_predic.shape)\n",
        "wrong_ind = np.where(np.equal(y_predic, y_true) == False)[0]\n",
        "\n",
        "print('whe have', wrong_ind.shape[0], 'wrong index')"
      ],
      "execution_count": null,
      "outputs": [
        {
          "output_type": "stream",
          "text": [
            "(18207,)\n",
            "whe have 231 wrong index\n"
          ],
          "name": "stdout"
        }
      ]
    },
    {
      "cell_type": "code",
      "metadata": {
        "id": "xXrm_WClodNX",
        "colab_type": "code",
        "colab": {}
      },
      "source": [
        "# from sklearn.metrics import classification_report, confusion_matrix\n",
        "\n",
        "# print('Confusion Matrix')\n",
        "# print(confusion_matrix(y_true, y_predic))\n",
        "# print('Classification Report')\n",
        "# print(classification_report(y_true, y_predic, target_names=target_names))"
      ],
      "execution_count": null,
      "outputs": []
    }
  ]
}